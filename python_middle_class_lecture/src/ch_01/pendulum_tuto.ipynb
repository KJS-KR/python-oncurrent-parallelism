{
 "cells": [
  {
   "cell_type": "markdown",
   "metadata": {},
   "source": [
    "# Pendulum Library Tutorial\n"
   ]
  },
  {
   "cell_type": "code",
   "execution_count": 1,
   "metadata": {},
   "outputs": [],
   "source": [
    "import pendulum"
   ]
  },
  {
   "cell_type": "markdown",
   "metadata": {},
   "source": [
    "년도, 월, 일을 가지고 datetime 객체 생성"
   ]
  },
  {
   "cell_type": "code",
   "execution_count": 2,
   "metadata": {},
   "outputs": [
    {
     "name": "stdout",
     "output_type": "stream",
     "text": [
      "2019-05-01T00:00:00+00:00\n",
      "<class 'pendulum.datetime.DateTime'>\n"
     ]
    }
   ],
   "source": [
    "# 년도, 월, 일을 가지고 datetime 객체 생성\n",
    "dt = pendulum.datetime(2019, 5, 1)\n",
    "print(dt)\n",
    "print(type(dt))"
   ]
  },
  {
   "cell_type": "markdown",
   "metadata": {},
   "source": [
    "시간대 설정"
   ]
  },
  {
   "cell_type": "code",
   "execution_count": 3,
   "metadata": {},
   "outputs": [
    {
     "name": "stdout",
     "output_type": "stream",
     "text": [
      "2019-05-01T00:00:00+09:00\n"
     ]
    }
   ],
   "source": [
    "dt = pendulum.datetime(2019, 5, 1, tz=\"Asia/Seoul\")\n",
    "print(dt)"
   ]
  },
  {
   "cell_type": "markdown",
   "metadata": {},
   "source": [
    "로컬 타임존에 맞게 설정"
   ]
  },
  {
   "cell_type": "code",
   "execution_count": 4,
   "metadata": {},
   "outputs": [
    {
     "name": "stdout",
     "output_type": "stream",
     "text": [
      "Asia/Seoul\n"
     ]
    }
   ],
   "source": [
    "# 로컬 타임존에 맞게 설정\n",
    "dt = pendulum.local(2019, 5, 1)\n",
    "print(dt.timezone.name)"
   ]
  },
  {
   "cell_type": "markdown",
   "metadata": {},
   "source": [
    "현재 시간"
   ]
  },
  {
   "cell_type": "code",
   "execution_count": 5,
   "metadata": {},
   "outputs": [
    {
     "name": "stdout",
     "output_type": "stream",
     "text": [
      "2023-10-10T10:23:32.926062+09:00\n"
     ]
    }
   ],
   "source": [
    "# 현재 시간\n",
    "now = pendulum.now()\n",
    "print(now)"
   ]
  },
  {
   "cell_type": "markdown",
   "metadata": {},
   "source": [
    "Naive DateTime : 날짜와 시각만을 가짐"
   ]
  },
  {
   "cell_type": "code",
   "execution_count": 6,
   "metadata": {},
   "outputs": [
    {
     "name": "stdout",
     "output_type": "stream",
     "text": [
      "None\n"
     ]
    }
   ],
   "source": [
    "# Naive DateTime : 날짜와 시각만을 가짐\n",
    "naive = pendulum.naive(2019, 5, 1)\n",
    "print(naive.timezone)"
   ]
  },
  {
   "cell_type": "code",
   "execution_count": 7,
   "metadata": {},
   "outputs": [
    {
     "name": "stdout",
     "output_type": "stream",
     "text": [
      "2019-05-01T22:00:00+00:00\n"
     ]
    }
   ],
   "source": [
    "# 날짜와 시간 문자열 파싱\n",
    "dt = pendulum.parse(\"2019-05-01T22:00:00\")\n",
    "print(dt)"
   ]
  },
  {
   "cell_type": "markdown",
   "metadata": {},
   "source": [
    "언어 설정 후 생성 DateTime 객체는 한국어로 출력"
   ]
  },
  {
   "cell_type": "code",
   "execution_count": 8,
   "metadata": {},
   "outputs": [
    {
     "name": "stdout",
     "output_type": "stream",
     "text": [
      "1년 후\n"
     ]
    }
   ],
   "source": [
    "# 언어 설정 후 생성 DateTime 객체는 한국어로 출력\n",
    "pendulum.set_locale(\"ko\")\n",
    "print(pendulum.now().add(years=1).diff_for_humans())"
   ]
  },
  {
   "cell_type": "markdown",
   "metadata": {},
   "source": [
    "세부적인 필드 접근"
   ]
  },
  {
   "cell_type": "code",
   "execution_count": 9,
   "metadata": {},
   "outputs": [
    {
     "name": "stdout",
     "output_type": "stream",
     "text": [
      "2019\n",
      "5\n",
      "1\n",
      "22\n",
      "0\n",
      "0\n",
      "0\n",
      "3\n",
      "121\n",
      "1\n",
      "18\n",
      "31\n"
     ]
    }
   ],
   "source": [
    "# 세부적인 필드 접근\n",
    "dt = pendulum.parse(\"2019-05-01T22:00:00\")\n",
    "print(dt.year)\n",
    "print(dt.month)\n",
    "print(dt.day)\n",
    "print(dt.hour)\n",
    "print(dt.minute)\n",
    "print(dt.second)\n",
    "print(dt.microsecond)\n",
    "print(dt.day_of_week)\n",
    "print(dt.day_of_year)\n",
    "print(dt.week_of_month)\n",
    "print(dt.week_of_year)\n",
    "print(dt.days_in_month)"
   ]
  },
  {
   "cell_type": "markdown",
   "metadata": {},
   "source": [
    "객체를 날짜와 시간 형식으로 반환"
   ]
  },
  {
   "cell_type": "code",
   "execution_count": 10,
   "metadata": {},
   "outputs": [
    {
     "name": "stdout",
     "output_type": "stream",
     "text": [
      "2017-12-22 22:00:00\n"
     ]
    }
   ],
   "source": [
    "# 객체를 날짜와 시간 형식으로 반환\n",
    "t = pendulum.now()\n",
    "print(dt.set(year=2017, month=12, day=22).to_datetime_string())"
   ]
  },
  {
   "cell_type": "markdown",
   "metadata": {},
   "source": [
    "날짜만 형식을 지키도록 반환"
   ]
  },
  {
   "cell_type": "code",
   "execution_count": 11,
   "metadata": {},
   "outputs": [
    {
     "name": "stdout",
     "output_type": "stream",
     "text": [
      "2019-05-01\n"
     ]
    }
   ],
   "source": [
    "# 날짜만 형식을 지키도록 반환\n",
    "pendulum.now()\n",
    "print(dt.to_date_string())"
   ]
  },
  {
   "cell_type": "markdown",
   "metadata": {},
   "source": [
    "주어진 형식대로 출력"
   ]
  },
  {
   "cell_type": "code",
   "execution_count": 12,
   "metadata": {},
   "outputs": [
    {
     "name": "stdout",
     "output_type": "stream",
     "text": [
      "2019-05-01T00:00:00+00:00\n"
     ]
    }
   ],
   "source": [
    "# 주어진 형식대로 출력\n",
    "dt = pendulum.datetime(2019, 5, 1, 1, 1, 1)\n",
    "print(dt.start_of(\"day\"))"
   ]
  },
  {
   "cell_type": "markdown",
   "metadata": {},
   "source": [
    "일자를 기준으로 잘라서 시간 재설정"
   ]
  },
  {
   "cell_type": "code",
   "execution_count": 13,
   "metadata": {},
   "outputs": [
    {
     "name": "stdout",
     "output_type": "stream",
     "text": [
      "2019-05-01T00:00:00+00:00\n"
     ]
    }
   ],
   "source": [
    "dt = pendulum.datetime(2019, 5, 1, 1, 1, 1)\n",
    "print(dt.start_of('day'))"
   ]
  }
 ],
 "metadata": {
  "kernelspec": {
   "display_name": "env",
   "language": "python",
   "name": "python3"
  },
  "language_info": {
   "codemirror_mode": {
    "name": "ipython",
    "version": 3
   },
   "file_extension": ".py",
   "mimetype": "text/x-python",
   "name": "python",
   "nbconvert_exporter": "python",
   "pygments_lexer": "ipython3",
   "version": "3.10.9"
  }
 },
 "nbformat": 4,
 "nbformat_minor": 2
}
